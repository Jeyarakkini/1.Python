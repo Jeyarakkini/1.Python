{
 "cells": [
  {
   "cell_type": "code",
   "execution_count": 1,
   "id": "31e276c5-ea04-4ffc-b16d-6986000a03f9",
   "metadata": {},
   "outputs": [
    {
     "name": "stdout",
     "output_type": "stream",
     "text": [
      "0\n",
      "1\n",
      "2\n",
      "3\n",
      "4\n",
      "5\n",
      "6\n",
      "7\n",
      "8\n",
      "9\n",
      "10\n",
      "11\n",
      "12\n",
      "13\n",
      "14\n",
      "15\n",
      "16\n",
      "17\n",
      "18\n",
      "19\n"
     ]
    }
   ],
   "source": [
    "#print 0 to 20 by using range\n",
    "for num in range(0,20):\n",
    "    print(num)"
   ]
  },
  {
   "cell_type": "code",
   "execution_count": 9,
   "id": "3da55364-9ea3-4d0f-8aad-21c823ba3be4",
   "metadata": {},
   "outputs": [
    {
     "name": "stdout",
     "output_type": "stream",
     "text": [
      "10 11 12 13 14 15 16 17 18 19\n"
     ]
    }
   ],
   "source": [
    "#print range 10 to 20\n",
    "print(*range(10,20))"
   ]
  },
  {
   "cell_type": "code",
   "execution_count": 13,
   "id": "824023c2-b990-4389-8b1d-1e81c1d9dcc4",
   "metadata": {},
   "outputs": [
    {
     "name": "stdout",
     "output_type": "stream",
     "text": [
      "No.of.items in the list:\n"
     ]
    },
    {
     "data": {
      "text/plain": [
       "7"
      ]
     },
     "execution_count": 13,
     "metadata": {},
     "output_type": "execute_result"
    }
   ],
   "source": [
    "# no.0f.elements using len function\n",
    "list=[10,20,14,55,43,87,76]\n",
    "print(\"No.of.items in the list:\")\n",
    "len(list)"
   ]
  },
  {
   "cell_type": "code",
   "execution_count": 17,
   "id": "91aa83ab-a2e2-4759-b721-89aaed25aab4",
   "metadata": {},
   "outputs": [
    {
     "name": "stdout",
     "output_type": "stream",
     "text": [
      "A\n",
      "r\n",
      "t\n",
      "i\n",
      "f\n",
      "i\n",
      "c\n",
      "i\n",
      "a\n",
      "l\n",
      " \n",
      "I\n",
      "n\n",
      "t\n",
      "e\n",
      "l\n",
      "l\n",
      "i\n",
      "g\n",
      "e\n",
      "n\n",
      "c\n",
      "e\n"
     ]
    }
   ],
   "source": [
    "# Artificial intelligence\n",
    "word=\"Artificial Intelligence\"\n",
    "for char in word:\n",
    "    print(char)"
   ]
  },
  {
   "cell_type": "code",
   "execution_count": 1,
   "id": "ea6b529e-5c93-4993-9dee-256477560cfb",
   "metadata": {},
   "outputs": [
    {
     "name": "stdin",
     "output_type": "stream",
     "text": [
      "Enter your name: Jeya\n",
      "Enter your age: 26\n",
      "Enter your profession: Freelancer\n"
     ]
    },
    {
     "name": "stdout",
     "output_type": "stream",
     "text": [
      "Jeya\n",
      "26\n",
      "Freelancer\n"
     ]
    }
   ],
   "source": [
    "#name,age,profession\n",
    "name=input(\"Enter your name:\")\n",
    "age=int(input(\"Enter your age:\"))\n",
    "prof=input(\"Enter your profession:\")\n",
    "infoList=[name,age,prof]\n",
    "for info in infoList:\n",
    "    print(info)"
   ]
  },
  {
   "cell_type": "code",
   "execution_count": 21,
   "id": "4b41bc5c-d936-4b15-ad48-d09614e02a18",
   "metadata": {},
   "outputs": [
    {
     "name": "stdin",
     "output_type": "stream",
     "text": [
      "Enter a number: 1\n",
      "Enter a word: welcome\n",
      "Enter number 2: 2\n",
      "Enter word 2: hope\n"
     ]
    },
    {
     "name": "stdout",
     "output_type": "stream",
     "text": [
      "(1, 'welcome', 2, 'hope')\n"
     ]
    }
   ],
   "source": [
    "# printing mixed data type ex 1\n",
    "num1=int(input(\"Enter a number:\"))\n",
    "word1=input(\"Enter a word:\")\n",
    "num2=int(input(\"Enter number 2:\"))\n",
    "word2=input(\"Enter word 2:\")\n",
    "myTuple=(num1,word1,num2,word2)\n",
    "print(myTuple)"
   ]
  },
  {
   "cell_type": "code",
   "execution_count": 9,
   "id": "db321bee-617a-4517-ab28-a47e8100f82c",
   "metadata": {},
   "outputs": [
    {
     "name": "stdout",
     "output_type": "stream",
     "text": [
      "(1, 'welcome', 2, 'hope')\n"
     ]
    }
   ],
   "source": [
    "#printing mixed data type ex2\n",
    "tuple=(1,'welcome',2,'hope')\n",
    "print(tuple)"
   ]
  },
  {
   "cell_type": "code",
   "execution_count": 7,
   "id": "4e5b4ac0-18a1-431d-be3b-ad6ea1f5b17c",
   "metadata": {},
   "outputs": [
    {
     "name": "stdout",
     "output_type": "stream",
     "text": [
      "((0, 1, 2, 3), ('python', 'hope'))\n"
     ]
    }
   ],
   "source": [
    "# nested tuples\n",
    "tuple1=(0,1,2,3)\n",
    "tuple2=('python','hope')\n",
    "nestedTuple=(tuple1,tuple2)\n",
    "print(nestedTuple)\n"
   ]
  },
  {
   "cell_type": "code",
   "execution_count": 19,
   "id": "fe285925-e7d5-4bd4-b622-c2f7b0888969",
   "metadata": {},
   "outputs": [
    {
     "name": "stdout",
     "output_type": "stream",
     "text": [
      "19 is odd\n",
      "25 is odd\n",
      "1 is odd\n"
     ]
    }
   ],
   "source": [
    "#print odd numbers in the list\n",
    "numList=[20,10,16,19,25,1,276,188]\n",
    "for num in numList:\n",
    "    if(num%2==1):\n",
    "        print(num,\"is odd\")        "
   ]
  },
  {
   "cell_type": "code",
   "execution_count": 17,
   "id": "4e54b1d9-4289-4175-8346-8c8c8c76ec38",
   "metadata": {},
   "outputs": [
    {
     "name": "stdout",
     "output_type": "stream",
     "text": [
      "20 is even\n",
      "10 is even\n",
      "16 is even\n",
      "276 is even\n",
      "188 is even\n"
     ]
    }
   ],
   "source": [
    "#print even numbers in the list\n",
    "numList=[20,10,16,19,25,1,276,188]\n",
    "for num in numList:\n",
    "    if(num%2==0):\n",
    "        print(num,\"is even\")"
   ]
  },
  {
   "cell_type": "code",
   "execution_count": null,
   "id": "418bb18c-c0ed-4655-816f-ef8756cc2d18",
   "metadata": {},
   "outputs": [],
   "source": []
  }
 ],
 "metadata": {
  "kernelspec": {
   "display_name": "Python 3 (ipykernel)",
   "language": "python",
   "name": "python3"
  },
  "language_info": {
   "codemirror_mode": {
    "name": "ipython",
    "version": 3
   },
   "file_extension": ".py",
   "mimetype": "text/x-python",
   "name": "python",
   "nbconvert_exporter": "python",
   "pygments_lexer": "ipython3",
   "version": "3.12.7"
  }
 },
 "nbformat": 4,
 "nbformat_minor": 5
}
