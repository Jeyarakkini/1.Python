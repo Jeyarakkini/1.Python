{
 "cells": [
  {
   "cell_type": "code",
   "execution_count": 2,
   "id": "b7abf679-ee65-4ecb-be92-3cd6e4d40fc3",
   "metadata": {},
   "outputs": [],
   "source": [
    "                               #CLASS AND FUNCTION"
   ]
  },
  {
   "cell_type": "code",
   "execution_count": 10,
   "id": "e0d0e122-345b-4636-a511-e9c34c9f52e6",
   "metadata": {},
   "outputs": [],
   "source": [
    "# subfields in AI\n",
    "class subfieldsInAI():\n",
    "    def subfields():\n",
    "        sf=print(\"Subfields in AI:\",'Machine language','Neural Network','Vision','Robotics','Speech processing','Natural Processing',sep=\"\\n\")\n",
    "        return sf"
   ]
  },
  {
   "cell_type": "code",
   "execution_count": 8,
   "id": "d4f1125d-9b16-45ce-8439-10e013748af1",
   "metadata": {},
   "outputs": [
    {
     "name": "stdout",
     "output_type": "stream",
     "text": [
      "Subfields in AI:\n",
      "Machine language\n",
      "Neural Network\n",
      "Vision\n",
      "Robotics\n",
      "Speech processing\n",
      "Natural Processing\n"
     ]
    }
   ],
   "source": [
    "subfieldsInAI.subfields()"
   ]
  },
  {
   "cell_type": "code",
   "execution_count": 12,
   "id": "8336d484-9761-4376-a67f-64e3222e212a",
   "metadata": {},
   "outputs": [],
   "source": [
    "#odd even function\n",
    "class oddEven():\n",
    "        def oddEven():\n",
    "            if(num%2==0):\n",
    "                ans=print(num,\"is an even number\")\n",
    "            else:\n",
    "                ans=print(num,'is an odd number')\n",
    "                return ans"
   ]
  },
  {
   "cell_type": "code",
   "execution_count": 14,
   "id": "cf06c376-9fef-4ada-bd84-cbb223368067",
   "metadata": {},
   "outputs": [
    {
     "name": "stdin",
     "output_type": "stream",
     "text": [
      "Enter any number: 52452\n"
     ]
    },
    {
     "name": "stdout",
     "output_type": "stream",
     "text": [
      "52452 is an even number\n"
     ]
    }
   ],
   "source": [
    "num=int(input('Enter any number:'))\n",
    "oddEven.oddEven()"
   ]
  },
  {
   "cell_type": "code",
   "execution_count": 16,
   "id": "b66d2316-34df-4010-ae21-f31c1e76b96f",
   "metadata": {},
   "outputs": [],
   "source": [
    "#Eligibility check for marriage\n",
    "class EligibilityForMarriage():\n",
    "    def eligibility():\n",
    "        if(gender=='m' and age<21):\n",
    "            result=print(\"You are NOT ELIGIBLE\")\n",
    "        elif(gender=='m' and age>=21):\n",
    "            result=print(\"You are ELIGIBLE\")\n",
    "        elif(gender=='f' and age<18):\n",
    "            result=print(\"You are NOT ELIGIBLE\")\n",
    "        elif(gender=='f' and age>=18):\n",
    "            result=print(\"You are ELIGIBLE\")\n",
    "        else:\n",
    "            result=print(\"Check your gender again\")\n",
    "            return result"
   ]
  },
  {
   "cell_type": "code",
   "execution_count": 18,
   "id": "d729ce0a-5c98-40fb-9ff6-3a48c902f68f",
   "metadata": {},
   "outputs": [
    {
     "name": "stdin",
     "output_type": "stream",
     "text": [
      "Enter m for Male and f for Female: m\n",
      "Enter your age: 20\n"
     ]
    },
    {
     "name": "stdout",
     "output_type": "stream",
     "text": [
      "You are NOT ELIGIBLE\n"
     ]
    }
   ],
   "source": [
    "gender=input(\"Enter m for Male and f for Female:\")\n",
    "age=int(input(\"Enter your age:\"))\n",
    "EligibilityForMarriage.eligibility()"
   ]
  },
  {
   "cell_type": "code",
   "execution_count": 22,
   "id": "f08fab98-5877-4d34-aa4f-ed91aae084f1",
   "metadata": {},
   "outputs": [],
   "source": [
    "#marks percentage\n",
    "class FindPercent():\n",
    "    def percentage():\n",
    "        print(\"Subject1:\",sub1, \"Subject2:\",sub2, \"Subject3:\",sub3, \"Subject4:\",sub4, \"Subject5:\",sub5,sep=\"\\n\")\n",
    "        total=int(sub1+sub2+sub3+sub4+sub5)\n",
    "        p=int((total/500)*100)\n",
    "        print(\"Total:\",total)\n",
    "        percent=print(\"percentage:\",p)\n",
    "        return percent"
   ]
  },
  {
   "cell_type": "code",
   "execution_count": 24,
   "id": "593f5836-d00a-4b90-9315-38db58e19902",
   "metadata": {},
   "outputs": [
    {
     "name": "stdin",
     "output_type": "stream",
     "text": [
      "Enter the marks of 5 subjects separated by spaces: 95 94 96 98 95\n"
     ]
    },
    {
     "name": "stdout",
     "output_type": "stream",
     "text": [
      "Subject1:\n",
      "95\n",
      "Subject2:\n",
      "94\n",
      "Subject3:\n",
      "96\n",
      "Subject4:\n",
      "98\n",
      "Subject5:\n",
      "95\n",
      "Total: 9594969895\n",
      "percentage: 1918993979\n"
     ]
    }
   ],
   "source": [
    "sub1,sub2,sub3,sub4,sub5=input(\"Enter the marks of 5 subjects separated by spaces:\").split()\n",
    "FindPercent.percentage()"
   ]
  },
  {
   "cell_type": "code",
   "execution_count": 34,
   "id": "644c4579-deb5-481c-854e-96e7cd287bb0",
   "metadata": {},
   "outputs": [],
   "source": [
    "#area and perimeter of triangle\n",
    "class triangle():\n",
    "    def triangleArea():\n",
    "        print('area formula =(height*breadth)/2')\n",
    "        a=(height*breadth)/2\n",
    "        area=print(\"Area of the triangle:\",a)\n",
    "        return area\n",
    "    def trianglePerimeter():\n",
    "        print('perimeter formula:h1+h2+b')\n",
    "        pm=h1+h2+b\n",
    "        peri=print(\"Perimeter of the triangle:\",pm)\n",
    "        return peri"
   ]
  },
  {
   "cell_type": "code",
   "execution_count": 36,
   "id": "f9e373d4-ab21-4e5e-b0e8-c33979deaed7",
   "metadata": {},
   "outputs": [
    {
     "name": "stdin",
     "output_type": "stream",
     "text": [
      "Height of the triangle: 32\n",
      "Breadth of the triangle: 34\n"
     ]
    },
    {
     "name": "stdout",
     "output_type": "stream",
     "text": [
      "area formula =(height*breadth)/2\n",
      "Area of the triangle: 544.0\n"
     ]
    },
    {
     "name": "stdin",
     "output_type": "stream",
     "text": [
      "Height1 of the triangle: 2\n",
      "Height2 of the triangle: 4\n",
      "Breadth of the triangle: 4\n"
     ]
    },
    {
     "name": "stdout",
     "output_type": "stream",
     "text": [
      "perimeter formula:h1+h2+b\n",
      "Perimeter of the triangle: 10\n"
     ]
    }
   ],
   "source": [
    "height=int(input(\"Height of the triangle:\"))\n",
    "breadth=int(input(\"Breadth of the triangle:\"))\n",
    "triangle.triangleArea()\n",
    "h1=int(input(\"Height1 of the triangle:\"))\n",
    "h2=int(input(\"Height2 of the triangle:\"))\n",
    "b=int(input(\"Breadth of the triangle:\"))\n",
    "triangle.trianglePerimeter()"
   ]
  },
  {
   "cell_type": "code",
   "execution_count": null,
   "id": "5635b9de-27de-4ace-9c3a-7d654eaa8d48",
   "metadata": {},
   "outputs": [],
   "source": []
  }
 ],
 "metadata": {
  "kernelspec": {
   "display_name": "Python 3 (ipykernel)",
   "language": "python",
   "name": "python3"
  },
  "language_info": {
   "codemirror_mode": {
    "name": "ipython",
    "version": 3
   },
   "file_extension": ".py",
   "mimetype": "text/x-python",
   "name": "python",
   "nbconvert_exporter": "python",
   "pygments_lexer": "ipython3",
   "version": "3.12.7"
  }
 },
 "nbformat": 4,
 "nbformat_minor": 5
}
