{
 "cells": [
  {
   "cell_type": "code",
   "execution_count": 59,
   "id": "38d19eac-eb00-4327-b316-1e32ce0fe23f",
   "metadata": {},
   "outputs": [],
   "source": [
    "                                                      # FUNCTIONS ASSIGNMENT"
   ]
  },
  {
   "cell_type": "code",
   "execution_count": 47,
   "id": "d1f47c4b-c1a9-412d-aeb3-21d521e8fefe",
   "metadata": {},
   "outputs": [],
   "source": [
    "# subfields in AI\n",
    "def subfields():\n",
    "    sf=print(\"Subfields in AI:\",'Machine language','Neural Network','Vision','Robotics','Speech processing','Natural Processing',sep=\"\\n\")\n",
    "    return sf"
   ]
  },
  {
   "cell_type": "code",
   "execution_count": 49,
   "id": "c54cbf37-c72e-466f-8f1f-7b3096fe9427",
   "metadata": {},
   "outputs": [
    {
     "name": "stdout",
     "output_type": "stream",
     "text": [
      "Subfields in AI:\n",
      "Machine language\n",
      "Neural Network\n",
      "Vision\n",
      "Robotics\n",
      "Speech processing\n",
      "Natural Processing\n"
     ]
    }
   ],
   "source": [
    "subfields()"
   ]
  },
  {
   "cell_type": "code",
   "execution_count": 51,
   "id": "f9f8d319-18c0-420c-bfd3-e6c9994424af",
   "metadata": {},
   "outputs": [],
   "source": [
    "#odd even function\n",
    "def oddEven():\n",
    "    if(num%2==0):\n",
    "        ans=print(num,\"is an even number\")\n",
    "    else:\n",
    "        ans=print(num,'is an odd number')\n",
    "        return ans"
   ]
  },
  {
   "cell_type": "code",
   "execution_count": 53,
   "id": "26109785-13fb-4604-bd3c-01af56fb6ce2",
   "metadata": {},
   "outputs": [
    {
     "name": "stdin",
     "output_type": "stream",
     "text": [
      "Enter any number: 52452\n"
     ]
    },
    {
     "name": "stdout",
     "output_type": "stream",
     "text": [
      "52452 is an even number\n"
     ]
    }
   ],
   "source": [
    "num=int(input('Enter any number:'))\n",
    "oddEven()"
   ]
  },
  {
   "cell_type": "code",
   "execution_count": 55,
   "id": "36aed62b-699c-415b-874c-329834ccaeaa",
   "metadata": {},
   "outputs": [],
   "source": [
    "#Eligibility check for marriage\n",
    "def eligibility():\n",
    "    if(gender=='m' and age<21):\n",
    "        result=print(\"You are NOT ELIGIBLE\")\n",
    "    elif(gender=='m' and age>=21):\n",
    "        result=print(\"You are ELIGIBLE\")\n",
    "    elif(gender=='f' and age<18):\n",
    "        result=print(\"You are NOT ELIGIBLE\")\n",
    "    elif(gender=='f' and age>=18):\n",
    "        result=print(\"You are ELIGIBLE\")\n",
    "    else:\n",
    "        result=print(\"Check your gender again\")\n",
    "        return result"
   ]
  },
  {
   "cell_type": "code",
   "execution_count": 57,
   "id": "877044ad-58f7-432f-abed-acb5ca249ced",
   "metadata": {},
   "outputs": [
    {
     "name": "stdin",
     "output_type": "stream",
     "text": [
      "Enter m for Male and f for Female: m\n",
      "Enter your age: 20\n"
     ]
    },
    {
     "name": "stdout",
     "output_type": "stream",
     "text": [
      "You are NOT ELIGIBLE\n"
     ]
    }
   ],
   "source": [
    "gender=input(\"Enter m for Male and f for Female:\")\n",
    "age=int(input(\"Enter your age:\"))\n",
    "eligibility()"
   ]
  },
  {
   "cell_type": "code",
   "execution_count": 15,
   "id": "1d8ae607-d5e1-4059-a784-d7cec7c4d64e",
   "metadata": {},
   "outputs": [],
   "source": [
    "#marks percentage\n",
    "def percentage():\n",
    "    print(\"Subject1:\",sub1, \"Subject2:\",sub2, \"Subject3:\",sub3, \"Subject4:\",sub4, \"Subject5:\",sub5,sep=\" \")\n",
    "    total=int(sub1+sub2+sub3+sub4+sub5)\n",
    "    p=int((total/500)*100)\n",
    "    print(\"Total:\",total)\n",
    "    percent=print(\"percentage:\",p)\n",
    "    return percent"
   ]
  },
  {
   "cell_type": "code",
   "execution_count": 17,
   "id": "3940b32b-66f7-47cb-a616-46aee4d67481",
   "metadata": {},
   "outputs": [
    {
     "name": "stdin",
     "output_type": "stream",
     "text": [
      "Enter the marks of 5 subjects separated by spaces: 96 99 95 96 98\n"
     ]
    },
    {
     "name": "stdout",
     "output_type": "stream",
     "text": [
      "Subject1: 96 Subject2: 99 Subject3: 95 Subject4: 96 Subject5: 98\n",
      "Total: 9699959698\n",
      "percentage: 1939991939\n"
     ]
    }
   ],
   "source": [
    "sub1,sub2,sub3,sub4,sub5=input(\"Enter the marks of 5 subjects separated by spaces:\").split()\n",
    "percentage()"
   ]
  },
  {
   "cell_type": "code",
   "execution_count": 19,
   "id": "b1782ef1-0cd7-4af2-a6bb-c4e55ed83aa5",
   "metadata": {},
   "outputs": [],
   "source": [
    "#area of triangle\n",
    "def triangleArea():\n",
    "    a=(height*breadth)/2\n",
    "    area=print(\"Area of the triangle:\",a)\n",
    "    return area"
   ]
  },
  {
   "cell_type": "code",
   "execution_count": 23,
   "id": "c6ec3c24-6130-43a2-adca-5b5443002993",
   "metadata": {},
   "outputs": [
    {
     "name": "stdin",
     "output_type": "stream",
     "text": [
      "Height of the triangle: 32\n",
      "Breadth of the triangle: 34\n"
     ]
    },
    {
     "name": "stdout",
     "output_type": "stream",
     "text": [
      "Area of the triangle: 544.0\n"
     ]
    }
   ],
   "source": [
    "height=int(input(\"Height of the triangle:\"))\n",
    "breadth=int(input(\"Breadth of the triangle:\"))\n",
    "triangleArea()"
   ]
  },
  {
   "cell_type": "code",
   "execution_count": 25,
   "id": "25d1814a-acfa-4b10-babe-78a10a481a14",
   "metadata": {},
   "outputs": [],
   "source": [
    "def trianglePerimeter():\n",
    "    pm=h1+h2+b\n",
    "    peri=print(\"Perimeter of the triangle:\",pm)\n",
    "    return peri"
   ]
  },
  {
   "cell_type": "code",
   "execution_count": 29,
   "id": "80f101bd-9a31-416a-bed3-225b6e210b3e",
   "metadata": {},
   "outputs": [
    {
     "name": "stdin",
     "output_type": "stream",
     "text": [
      "Height1 of the triangle: 2\n",
      "Height2 of the triangle: 4\n",
      "Breadth of the triangle: 4\n"
     ]
    },
    {
     "name": "stdout",
     "output_type": "stream",
     "text": [
      "Perimeter of the triangle: 10\n"
     ]
    }
   ],
   "source": [
    "h1=int(input(\"Height1 of the triangle:\"))\n",
    "h2=int(input(\"Height2 of the triangle:\"))\n",
    "b=int(input(\"Breadth of the triangle:\"))\n",
    "trianglePerimeter()"
   ]
  },
  {
   "cell_type": "code",
   "execution_count": null,
   "id": "96bf915d-e5a0-48f5-b321-d73767b8fc23",
   "metadata": {},
   "outputs": [],
   "source": []
  }
 ],
 "metadata": {
  "kernelspec": {
   "display_name": "Python 3 (ipykernel)",
   "language": "python",
   "name": "python3"
  },
  "language_info": {
   "codemirror_mode": {
    "name": "ipython",
    "version": 3
   },
   "file_extension": ".py",
   "mimetype": "text/x-python",
   "name": "python",
   "nbconvert_exporter": "python",
   "pygments_lexer": "ipython3",
   "version": "3.12.7"
  }
 },
 "nbformat": 4,
 "nbformat_minor": 5
}
