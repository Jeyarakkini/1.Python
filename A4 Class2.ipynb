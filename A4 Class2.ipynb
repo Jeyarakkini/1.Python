{
 "cells": [
  {
   "cell_type": "code",
   "execution_count": 1,
   "id": "08aa08d3-82dd-4b10-a743-97803f517d2e",
   "metadata": {},
   "outputs": [],
   "source": [
    "# FUNCTIONS AND CLASS 2"
   ]
  },
  {
   "cell_type": "code",
   "execution_count": 3,
   "id": "42bd26f6-7629-43d6-a9b1-27087bebae6a",
   "metadata": {},
   "outputs": [],
   "source": [
    "from groups import functions"
   ]
  },
  {
   "cell_type": "code",
   "execution_count": 5,
   "id": "e4de0221-30ac-4b3a-9bb6-279630c52d08",
   "metadata": {},
   "outputs": [
    {
     "name": "stdout",
     "output_type": "stream",
     "text": [
      "Subfields in AI:\n",
      "Machine language\n",
      "Neural Network\n",
      "Vision\n",
      "Robotics\n",
      "Speech processing\n",
      "Natural Processing\n"
     ]
    }
   ],
   "source": [
    "functions.subfields()"
   ]
  },
  {
   "cell_type": "code",
   "execution_count": 29,
   "id": "488b5590-f71a-4b20-a208-43b8c2b8009d",
   "metadata": {},
   "outputs": [
    {
     "name": "stdin",
     "output_type": "stream",
     "text": [
      "Enter any number: 54342\n"
     ]
    },
    {
     "name": "stdout",
     "output_type": "stream",
     "text": [
      "54342 is even\n"
     ]
    }
   ],
   "source": [
    "functions.oddEven()"
   ]
  },
  {
   "cell_type": "code",
   "execution_count": 31,
   "id": "4159e110-665b-4c5b-a906-ffdfa9f23f28",
   "metadata": {},
   "outputs": [
    {
     "name": "stdin",
     "output_type": "stream",
     "text": [
      "Enter m for Male and f for Female: f\n",
      "Enter your age: 23\n"
     ]
    },
    {
     "name": "stdout",
     "output_type": "stream",
     "text": [
      "You are ELIGIBLE\n"
     ]
    }
   ],
   "source": [
    "functions.eligibility()"
   ]
  },
  {
   "cell_type": "code",
   "execution_count": 7,
   "id": "43988a19-ba13-480b-aec9-6d6f8a0c1025",
   "metadata": {},
   "outputs": [
    {
     "name": "stdin",
     "output_type": "stream",
     "text": [
      "Enter the marks of 5 subjects separated by spaces: 96 95 97 95 94\n"
     ]
    },
    {
     "name": "stdout",
     "output_type": "stream",
     "text": [
      "Subject1:\n",
      "96\n",
      "Subject2:\n",
      "95\n",
      "Subject3:\n",
      "97\n",
      "Subject4:\n",
      "95\n",
      "Subject5:\n",
      "94\n",
      "Total: 477\n",
      "percentage: 95\n"
     ]
    }
   ],
   "source": [
    "functions.percentage()"
   ]
  },
  {
   "cell_type": "code",
   "execution_count": 35,
   "id": "3cc0ab3d-04ea-42bf-95ab-ba527c657914",
   "metadata": {},
   "outputs": [
    {
     "name": "stdin",
     "output_type": "stream",
     "text": [
      "Height of the triangle: 45\n",
      "Breadth of the triangle: 56\n"
     ]
    },
    {
     "name": "stdout",
     "output_type": "stream",
     "text": [
      "area of the traingle:(height*breadth)/2\n",
      "Area of the triangle: 1260.0\n"
     ]
    }
   ],
   "source": [
    "functions.triangleArea()"
   ]
  },
  {
   "cell_type": "code",
   "execution_count": 37,
   "id": "659321ad-3fdf-4247-bedc-c01f5e920161",
   "metadata": {},
   "outputs": [
    {
     "name": "stdin",
     "output_type": "stream",
     "text": [
      "Height1 of the triangle: 67\n",
      "Height2 of the triangle: 78\n",
      "Breadth of the triangle: 45\n"
     ]
    },
    {
     "name": "stdout",
     "output_type": "stream",
     "text": [
      "perimeter of the triangle:h1+h2+b\n",
      "Perimeter of the triangle: 190\n"
     ]
    }
   ],
   "source": [
    "functions.trianglePerimeter()"
   ]
  },
  {
   "cell_type": "code",
   "execution_count": null,
   "id": "4a03ac15-e548-4291-bb76-a74b47e9bbd5",
   "metadata": {},
   "outputs": [],
   "source": []
  }
 ],
 "metadata": {
  "kernelspec": {
   "display_name": "Python 3 (ipykernel)",
   "language": "python",
   "name": "python3"
  },
  "language_info": {
   "codemirror_mode": {
    "name": "ipython",
    "version": 3
   },
   "file_extension": ".py",
   "mimetype": "text/x-python",
   "name": "python",
   "nbconvert_exporter": "python",
   "pygments_lexer": "ipython3",
   "version": "3.12.7"
  }
 },
 "nbformat": 4,
 "nbformat_minor": 5
}
