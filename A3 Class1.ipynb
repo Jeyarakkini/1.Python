{
 "cells": [
  {
   "cell_type": "code",
   "execution_count": null,
   "id": "b7abf679-ee65-4ecb-be92-3cd6e4d40fc3",
   "metadata": {},
   "outputs": [],
   "source": [
    "                               #CLASS AND FUNCTION"
   ]
  },
  {
   "cell_type": "code",
   "execution_count": 1,
   "id": "5ec13597-f6ad-4a1f-863f-7835a6609ba1",
   "metadata": {},
   "outputs": [],
   "source": [
    "# subfields in AI\n",
    "class subfieldsInAI():\n",
    "    def subfields():\n",
    "        sf=print(\"Subfields in AI:\",'Machine language','Neural Network','Vision','Robotics','Speech processing','Natural Processing',sep=\"\\n\")\n",
    "        return sf"
   ]
  },
  {
   "cell_type": "code",
   "execution_count": 3,
   "id": "c732d1f4-ba28-4964-83aa-39c67766834e",
   "metadata": {},
   "outputs": [
    {
     "name": "stdout",
     "output_type": "stream",
     "text": [
      "Subfields in AI:\n",
      "Machine language\n",
      "Neural Network\n",
      "Vision\n",
      "Robotics\n",
      "Speech processing\n",
      "Natural Processing\n"
     ]
    }
   ],
   "source": [
    "subfieldsInAI.subfields()"
   ]
  },
  {
   "cell_type": "code",
   "execution_count": 10,
   "id": "0aa7f4c0-44d8-41c4-bb09-45eddb2b926b",
   "metadata": {},
   "outputs": [],
   "source": [
    "#oddeven\n",
    "class oddEven():\n",
    "    def oddEven():\n",
    "        num=int(input(\"Enter any number:\"))\n",
    "        if(num%2==0):\n",
    "            ans=print(num,'is even')\n",
    "        else:\n",
    "            ans=print(num,'is odd')\n",
    "            return ans"
   ]
  },
  {
   "cell_type": "code",
   "execution_count": 12,
   "id": "3ed310f9-2e1a-4393-bc1e-f1eb47677be6",
   "metadata": {},
   "outputs": [
    {
     "name": "stdin",
     "output_type": "stream",
     "text": [
      "Enter any number: 52452\n"
     ]
    },
    {
     "name": "stdout",
     "output_type": "stream",
     "text": [
      "52452 is even\n"
     ]
    }
   ],
   "source": [
    "oddEven.oddEven()"
   ]
  },
  {
   "cell_type": "code",
   "execution_count": 14,
   "id": "b4f89682-2ac6-482e-9b9f-06786cb299e7",
   "metadata": {},
   "outputs": [],
   "source": [
    "#Eligibility check for marriage\n",
    "class eligibilityForMarriage():\n",
    "    def eligibility():\n",
    "        gender=input(\"Enter m for Male and f for Female:\")\n",
    "        age=int(input(\"Enter your age:\"))\n",
    "        if(gender=='m' and age<21):\n",
    "            result=print(\"You are NOT ELIGIBLE\")\n",
    "        elif(gender=='m' and age>=21):\n",
    "            result=print(\"You are ELIGIBLE\")\n",
    "        elif(gender=='f' and age<18):\n",
    "            result=print(\"You are NOT ELIGIBLE\")\n",
    "        elif(gender=='f' and age>=18):\n",
    "            result=print(\"You are ELIGIBLE\")\n",
    "        else:\n",
    "            result=print(\"Check your gender again\")\n",
    "            return result"
   ]
  },
  {
   "cell_type": "code",
   "execution_count": 16,
   "id": "49e84b2c-b8c4-4724-9173-4b3a376f8664",
   "metadata": {},
   "outputs": [
    {
     "name": "stdin",
     "output_type": "stream",
     "text": [
      "Enter m for Male and f for Female: m\n",
      "Enter your age: 20\n"
     ]
    },
    {
     "name": "stdout",
     "output_type": "stream",
     "text": [
      "You are NOT ELIGIBLE\n"
     ]
    }
   ],
   "source": [
    "eligibilityForMarriage.eligibility()"
   ]
  },
  {
   "cell_type": "code",
   "execution_count": 18,
   "id": "b51df5fe-bea9-452c-9f91-646797a2435d",
   "metadata": {},
   "outputs": [],
   "source": [
    "#marks percentage\n",
    "class findPercent():\n",
    "    def percentage():\n",
    "        sub1,sub2,sub3,sub4,sub5=input(\"Enter the marks of 5 subjects separated by spaces:\").split()\n",
    "        print(\"Subject1:\",sub1, \"Subject2:\",sub2, \"Subject3:\",sub3, \"Subject4:\",sub4, \"Subject5:\",sub5,sep=\"\\n\")\n",
    "        total=int(sub1+sub2+sub3+sub4+sub5)\n",
    "        p=int((total/500)*100)\n",
    "        print(\"Total:\",total)\n",
    "        percent=print(\"percentage:\",p)\n",
    "        return percent"
   ]
  },
  {
   "cell_type": "code",
   "execution_count": 20,
   "id": "bee29ba8-d4d6-4fb1-8e04-9298d60e89e1",
   "metadata": {},
   "outputs": [
    {
     "name": "stdin",
     "output_type": "stream",
     "text": [
      "Enter the marks of 5 subjects separated by spaces: 98 95 95 96 98\n"
     ]
    },
    {
     "name": "stdout",
     "output_type": "stream",
     "text": [
      "Subject1:\n",
      "98\n",
      "Subject2:\n",
      "95\n",
      "Subject3:\n",
      "95\n",
      "Subject4:\n",
      "96\n",
      "Subject5:\n",
      "98\n",
      "Total: 9895959698\n",
      "percentage: 1979191939\n"
     ]
    }
   ],
   "source": [
    "findPercent.percentage()"
   ]
  },
  {
   "cell_type": "code",
   "execution_count": 26,
   "id": "83e801ea-e339-44db-863b-315c65224d2b",
   "metadata": {},
   "outputs": [],
   "source": [
    "#area of triangle\n",
    "class triangle():\n",
    "    def triangleArea():\n",
    "        height=int(input(\"Height of the triangle:\"))\n",
    "        breadth=int(input(\"Breadth of the triangle:\"))\n",
    "        print(\"area of the traingle:(height*breadth)/2\")\n",
    "        a=(height*breadth)/2\n",
    "        area=print(\"Area of the triangle:\",a)\n",
    "        return area\n",
    "    def trianglePerimeter():\n",
    "        h1=int(input(\"Height1 of the triangle:\"))\n",
    "        h2=int(input(\"Height2 of the triangle:\"))\n",
    "        b=int(input(\"Breadth of the triangle:\"))\n",
    "        print(\"perimeter of the triangle:h1+h2+b\")\n",
    "        pm=h1+h2+b\n",
    "        peri=print(\"Perimeter of the triangle:\",pm)\n",
    "        return peri"
   ]
  },
  {
   "cell_type": "code",
   "execution_count": 28,
   "id": "f6ef1032-b36d-4696-bd55-6157a2a5a950",
   "metadata": {},
   "outputs": [
    {
     "name": "stdin",
     "output_type": "stream",
     "text": [
      "Height of the triangle: 32\n",
      "Breadth of the triangle: 34\n"
     ]
    },
    {
     "name": "stdout",
     "output_type": "stream",
     "text": [
      "area of the traingle:(height*breadth)/2\n",
      "Area of the triangle: 544.0\n"
     ]
    }
   ],
   "source": [
    "triangle.triangleArea()"
   ]
  },
  {
   "cell_type": "code",
   "execution_count": 30,
   "id": "698ff4cb-f748-45de-a16a-a520ca1075cd",
   "metadata": {},
   "outputs": [
    {
     "name": "stdin",
     "output_type": "stream",
     "text": [
      "Height1 of the triangle: 4\n",
      "Height2 of the triangle: 4\n",
      "Breadth of the triangle: 2\n"
     ]
    },
    {
     "name": "stdout",
     "output_type": "stream",
     "text": [
      "perimeter of the triangle:h1+h2+b\n",
      "Perimeter of the triangle: 10\n"
     ]
    }
   ],
   "source": [
    "triangle.trianglePerimeter()"
   ]
  },
  {
   "cell_type": "code",
   "execution_count": null,
   "id": "053b2c4d-4c87-4385-bc67-7313c3f2715e",
   "metadata": {},
   "outputs": [],
   "source": []
  }
 ],
 "metadata": {
  "kernelspec": {
   "display_name": "Python 3 (ipykernel)",
   "language": "python",
   "name": "python3"
  },
  "language_info": {
   "codemirror_mode": {
    "name": "ipython",
    "version": 3
   },
   "file_extension": ".py",
   "mimetype": "text/x-python",
   "name": "python",
   "nbconvert_exporter": "python",
   "pygments_lexer": "ipython3",
   "version": "3.12.7"
  }
 },
 "nbformat": 4,
 "nbformat_minor": 5
}
