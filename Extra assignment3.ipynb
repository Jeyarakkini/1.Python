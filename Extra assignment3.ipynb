{
 "cells": [
  {
   "cell_type": "code",
   "execution_count": null,
   "id": "425a6059-e833-440f-a09d-da5d0f412042",
   "metadata": {},
   "outputs": [],
   "source": [
    "# EXTRA ASSIGNMENT 3"
   ]
  },
  {
   "cell_type": "code",
   "execution_count": 1,
   "id": "21a00bfb-b6eb-4818-a567-73d600a16329",
   "metadata": {},
   "outputs": [
    {
     "name": "stdin",
     "output_type": "stream",
     "text": [
      "value: 10\n"
     ]
    },
    {
     "name": "stdout",
     "output_type": "stream",
     "text": [
      "Correct\n"
     ]
    }
   ],
   "source": [
    "#print Correct if i==10\n",
    "i=int(input(\"value:\"))\n",
    "if(i==10):\n",
    "    print(\"Correct\")"
   ]
  },
  {
   "cell_type": "code",
   "execution_count": 3,
   "id": "baa69073-ba66-4ab4-99cf-0d78d340f665",
   "metadata": {},
   "outputs": [
    {
     "name": "stdin",
     "output_type": "stream",
     "text": [
      "Enter the password: Hope@123\n"
     ]
    },
    {
     "name": "stdout",
     "output_type": "stream",
     "text": [
      "Your password is correct\n"
     ]
    }
   ],
   "source": [
    "# check the password using if else\n",
    "password=input(\"Enter the password:\")\n",
    "if(password=='Hope@123'):\n",
    "    print(\"Your password is correct\")\n",
    "else:\n",
    "    print(\"Your password is incorrect\")"
   ]
  },
  {
   "cell_type": "code",
   "execution_count": 5,
   "id": "0d2e15cf-0b29-4e70-9502-c9c7001e8aed",
   "metadata": {},
   "outputs": [
    {
     "name": "stdin",
     "output_type": "stream",
     "text": [
      "age: 20\n"
     ]
    },
    {
     "name": "stdout",
     "output_type": "stream",
     "text": [
      "Adult\n"
     ]
    }
   ],
   "source": [
    "# catagory the people\n",
    "age=int(input(\"age:\"))\n",
    "if(age<0):\n",
    "    print(\"Age cannot be negative\")\n",
    "elif(age<18):\n",
    "    print(\"Children\")\n",
    "elif(age<35):\n",
    "    print(\"Adult\")\n",
    "elif(age<65):\n",
    "    print(\"Citizen\")\n",
    "else:\n",
    "    print(\"Senior citizen\")"
   ]
  },
  {
   "cell_type": "code",
   "execution_count": 7,
   "id": "2993b5a7-3fa8-49f5-88fc-f696de3f52b0",
   "metadata": {},
   "outputs": [
    {
     "name": "stdin",
     "output_type": "stream",
     "text": [
      "Enter any number: 1\n"
     ]
    },
    {
     "name": "stdout",
     "output_type": "stream",
     "text": [
      "The number is positive\n"
     ]
    }
   ],
   "source": [
    "# positve or negative\n",
    "num=int(input(\"Enter any number:\"))\n",
    "if(num<0):\n",
    "    print(\"The number is negative\")\n",
    "elif(num==0):\n",
    "    print(\"Zero is neither positive nor negative\")\n",
    "else:\n",
    "    print(\"The number is positive\")"
   ]
  },
  {
   "cell_type": "code",
   "execution_count": 9,
   "id": "f2426a55-8adb-4933-93a7-fe164d5b00f2",
   "metadata": {},
   "outputs": [
    {
     "name": "stdin",
     "output_type": "stream",
     "text": [
      "Enter any number to check: 22\n"
     ]
    },
    {
     "name": "stdout",
     "output_type": "stream",
     "text": [
      "The number is not divisible by 5\n"
     ]
    }
   ],
   "source": [
    "# divisibility by 5\n",
    "num1=int(input(\"Enter any number to check:\"))\n",
    "if(num1%5==0):\n",
    "    print(\"The number is divisible by 5\")\n",
    "else:\n",
    "    print(\"The number is not divisible by 5\")"
   ]
  },
  {
   "cell_type": "code",
   "execution_count": null,
   "id": "144ca094-311e-4675-adfb-4668a3b41b7d",
   "metadata": {},
   "outputs": [],
   "source": []
  }
 ],
 "metadata": {
  "kernelspec": {
   "display_name": "Python 3 (ipykernel)",
   "language": "python",
   "name": "python3"
  },
  "language_info": {
   "codemirror_mode": {
    "name": "ipython",
    "version": 3
   },
   "file_extension": ".py",
   "mimetype": "text/x-python",
   "name": "python",
   "nbconvert_exporter": "python",
   "pygments_lexer": "ipython3",
   "version": "3.12.7"
  }
 },
 "nbformat": 4,
 "nbformat_minor": 5
}
